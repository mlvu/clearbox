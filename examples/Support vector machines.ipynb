{
 "cells": [
  {
   "cell_type": "code",
   "execution_count": 15,
   "metadata": {},
   "outputs": [],
   "source": [
    "import clearbox as cb\n",
    "import clearbox.notebooks as nb # utility functions for notebook plotting\n",
    "import numpy as np\n",
    "\n",
    "import matplotlib as mpl\n",
    "import matplotlib.pyplot as plt"
   ]
  },
  {
   "cell_type": "code",
   "execution_count": 16,
   "metadata": {},
   "outputs": [],
   "source": [
    "# Create some simple example data\n",
    "\n",
    "features = np.asarray([\n",
    "    [2.45, 1.31],\n",
    "    [5.16, 1.31],\n",
    "    [2.45, 3.35],\n",
    "    [5.88, 3.72],\n",
    "    [8.99, 3.35],\n",
    "    [5.16, 5.73]\n",
    "])\n",
    "\n",
    "labels = np.asarray([0, 0, 0, 1, 1, 1])"
   ]
  },
  {
   "cell_type": "code",
   "execution_count": 17,
   "metadata": {},
   "outputs": [
    {
     "data": {
      "image/png": "[encoded data removed]",
      "text/plain": [
       "<Figure size 432x288 with 1 Axes>"
      ]
     },
     "metadata": {
      "needs_background": "light"
     },
     "output_type": "display_data"
    }
   ],
   "source": [
    "# Plot the data\n",
    "\n",
    "xneg, xpos = features[labels == 0], features[labels == 1]\n",
    "\n",
    "plt.scatter(xneg[:, 0], xneg[:, 1], color=nb.RED, marker='D')\n",
    "plt.scatter(xpos[:, 0], xpos[:, 1], color=nb.BLUE, marker='o')\n",
    "\n",
    "nb.clean()"
   ]
  },
  {
   "cell_type": "code",
   "execution_count": 4,
   "metadata": {},
   "outputs": [],
   "source": [
    "from clearbox import svm"
   ]
  },
  {
   "cell_type": "code",
   "execution_count": 11,
   "metadata": {},
   "outputs": [],
   "source": [
    "# Fit the simplest, non-kernel SVM, with basic gradient descent\n",
    "\n",
    "model = svm.SVM(search=svm.projected_gd_search)"
   ]
  },
  {
   "cell_type": "code",
   "execution_count": 12,
   "metadata": {},
   "outputs": [
    {
     "name": "stdout",
     "output_type": "stream",
     "text": [
      "iteration 0000: a [ 0.50707749 -0.09255848 -0.27358487  0.93343342  0.65011931  0.68078438], gradient norm 1.174 \n",
      "iteration 0100: a [-1.  0.  0.  1.  1.  1.], gradient norm 2.0 \n",
      "iteration 0200: a [-1.  0.  0.  1.  1.  1.], gradient norm 2.0 \n",
      "iteration 0300: a [-1.  0.  0.  1.  1.  1.], gradient norm 2.0 \n",
      "iteration 0400: a [-1.  0.  0.  1.  1.  1.], gradient norm 2.0 \n",
      "iteration 0500: a [-1.  0.  0.  1.  1.  1.], gradient norm 2.0 \n",
      "iteration 0600: a [-1.  0.  0.  1.  1.  1.], gradient norm 2.0 \n",
      "iteration 0700: a [-1.  0.  0.  1.  1.  1.], gradient norm 2.0 \n",
      "iteration 0800: a [-1.  0.  0.  1.  1.  1.], gradient norm 2.0 \n",
      "iteration 0900: a [-1.  0.  0.  1.  1.  1.], gradient norm 2.0 \n"
     ]
    }
   ],
   "source": [
    "model.fit(features, labels, verbose=True, lr=0.01, max_its=1000, print_every=100)"
   ]
  },
  {
   "cell_type": "code",
   "execution_count": 13,
   "metadata": {},
   "outputs": [
    {
     "name": "stdout",
     "output_type": "stream",
     "text": [
      "[2.45 8.99]\n",
      "[-11.47472006 -21.89422395]\n"
     ]
    },
    {
     "data": {
      "text/plain": [
       "[<matplotlib.lines.Line2D at 0x7fe54a35fee0>]"
      ]
     },
     "execution_count": 13,
     "metadata": {},
     "output_type": "execute_result"
    },
    {
     "data": {
      "image/png": "[encoded data removed]",
      "text/plain": [
       "<Figure size 432x288 with 1 Axes>"
      ]
     },
     "metadata": {
      "needs_background": "light"
     },
     "output_type": "display_data"
    }
   ],
   "source": [
    "w, b = model.compute_primal_params(features, labels)\n",
    "\n",
    "# Draw the decision boundary and the margins\n",
    "x = features\n",
    "x0s = np.asarray([x[:, 0].min(), x[:, 0].max()])\n",
    "x1s = - (w[0] * x0s + b)/w[1]\n",
    "\n",
    "x1s_neg = - (w[0] * x0s + b + 1)/w[1]\n",
    "x1s_pos = - (w[0] * x0s + b - 1)/w[1]\n",
    "\n",
    "\n",
    "print(x0s)\n",
    "print(x1s)\n",
    "\n",
    "# Plot the data\n",
    "\n",
    "xneg, xpos = features[labels == 0], features[labels == 1]\n",
    "\n",
    "plt.scatter(xneg[:, 0], xneg[:, 1], color=nb.RED, marker='D')\n",
    "plt.scatter(xpos[:, 0], xpos[:, 1], color=nb.BLUE, marker='o')\n",
    "\n",
    "nb.clean()\n",
    "\n",
    "plt.plot(x0s, x1s)\n",
    "plt.plot(x0s, x1s_neg, c=nb.RED, linestyle=':')\n",
    "plt.plot(x0s, x1s_pos, c=nb.BLUE, linestyle=':')"
   ]
  },
  {
   "cell_type": "code",
   "execution_count": null,
   "metadata": {},
   "outputs": [],
   "source": [
    "import torch\n",
    "from torch import nn\n",
    "\n",
    "torch.manual_seed(1)\n",
    "\n",
    "c = 1\n",
    "w, b = nn.Parameter( torch.randn((2, )) ), nn.Parameter( torch.zeros((1, )) )\n",
    "# w, b = nn.Parameter( torch.tensor([0.0, 0.0]) ), nn.Parameter( torch.zeros((1, )) )\n",
    "xt = torch.from_numpy(features)\n",
    "yt = torch.from_numpy(labels) * 2 - 1\n",
    "\n",
    "opt = torch.optim.SGD(lr = 0.001, params=[w, b], momentum=0.99)\n",
    "\n",
    "zs = torch.zeros_like(yt)"
   ]
  },
  {
   "cell_type": "code",
   "execution_count": null,
   "metadata": {
    "scrolled": true
   },
   "outputs": [],
   "source": [
    "for i in range(1000):\n",
    "    \n",
    "    opt.zero_grad()\n",
    "        \n",
    "    loss = 0.5 * torch.dot(w, w) + c * torch.maximum(zs, 1 - ((w[None, :] * xt).sum(dim=1) + b[:, None]) * yt).sum()\n",
    "\n",
    "    loss.backward()\n",
    "    \n",
    "    if i % 100 == 0:\n",
    "        print(f'{i:3}: {w.data=}, {b.data=}, {torch.cat([w.grad, b.grad]).norm()}')\n",
    "    \n",
    "    opt.step()"
   ]
  },
  {
   "cell_type": "code",
   "execution_count": null,
   "metadata": {},
   "outputs": [],
   "source": [
    "# Draw the decision boundary and the margins\n",
    "x = features\n",
    "x0s = np.asarray([x[:, 0].min(), x[:, 0].max()])\n",
    "\n",
    "wn, bn = w.detach().numpy(), b.detach().numpy()\n",
    "x1s = - (wn[0] * x0s + bn)/wn[1]\n",
    "\n",
    "x1s_neg = - (wn[0] * x0s + bn + 1)/wn[1]\n",
    "x1s_pos = - (wn[0] * x0s + bn - 1)/wn[1]\n",
    "\n",
    "print(x0s)\n",
    "print(x1s)\n",
    "print(wn, bn)\n",
    "\n",
    "h = 1000 # step nums in the mesh\n",
    "xx1, xx2 = np.meshgrid(np.arange(x0s[0], x0s[1], (x0s[1] - x0s[0])/h),\n",
    "                     np.arange(x1s[0], x1s[1], (x1s[1] - x1s[0])/h))\n",
    "\n",
    "plane = lambda x1, x2 : np.concatenate([x1[:, None], x2[:, None]], axis=1).dot(wn) + bn\n",
    "\n",
    "values = plane(xx1.ravel(), xx2.ravel())\n",
    "\n",
    "values = values.reshape(xx1.shape)\n",
    "\n",
    "# Plot the data\n",
    "xneg, xpos = features[labels == 0], features[labels == 1]\n",
    "\n",
    "plt.scatter(xneg[:, 0], xneg[:, 1], color=nb.RED, marker='D')\n",
    "plt.scatter(xpos[:, 0], xpos[:, 1], color=nb.BLUE, marker='o')\n",
    "\n",
    "plt.imshow(values, zorder=-1, extent=(x0s[0], x0s[1], x1s[1], x1s[0]), cmap='RdBu', vmin=-1, vmax=1, aspect='auto', alpha=0.2)\n",
    "\n",
    "nb.clean()\n",
    "\n",
    "plt.plot(x0s, x1s, c=nb.ORANGE)\n",
    "plt.plot(x0s, x1s_neg, c=nb.RED, linestyle=':')\n",
    "plt.plot(x0s, x1s_pos, c=nb.BLUE, linestyle=':')\n"
   ]
  },
  {
   "cell_type": "code",
   "execution_count": 49,
   "metadata": {},
   "outputs": [
    {
     "name": "stdout",
     "output_type": "stream",
     "text": [
      "[[0.26680972 0.09268956 0.35949928]]\n",
      "[[5.16 1.31]\n",
      " [2.45 3.35]\n",
      " [5.88 3.72]]\n"
     ]
    },
    {
     "data": {
      "image/png": "[encoded data removed]",
      "text/plain": [
       "<Figure size 432x288 with 1 Axes>"
      ]
     },
     "metadata": {
      "needs_background": "light"
     },
     "output_type": "display_data"
    }
   ],
   "source": [
    "from sklearn.svm import SVC\n",
    "from mlxtend.plotting import plot_decision_regions\n",
    "\n",
    "x = features\n",
    "\n",
    "model = SVC(kernel='linear', C=1)\n",
    "model.fit(x, labels)\n",
    "\n",
    "print(np.abs(model.dual_coef_))\n",
    "\n",
    "print(model.support_vectors_)\n",
    "\n",
    "ax = plot_decision_regions(X=features, y=labels, clf=model)\n",
    "\n",
    "for coord, alpha in zip(model.support_vectors_, model.dual_coef_[0]):\n",
    "    ax.text(x=coord[0], y=coord[1], s=f'alpha: {abs(alpha):.02}')\n",
    "    \n",
    "w = model.coef_[0]\n",
    "b = model.intercept_\n",
    "\n",
    "x1s = - (w[0] * x0s + b)/w[1]\n",
    "\n",
    "x1s_neg = - (w[0] * x0s + b + 1)/w[1]\n",
    "x1s_pos = - (w[0] * x0s + b - 1)/w[1]\n",
    "\n",
    "plt.plot(x0s, x1s, c=nb.ORANGE)\n",
    "plt.plot(x0s, x1s_neg, c=nb.RED, linestyle=':')\n",
    "plt.plot(x0s, x1s_pos, c=nb.BLUE, linestyle=':')\n",
    "\n",
    "nb.clean()\n",
    "plt.xlim(left=-1)\n",
    "plt.ylim(bottom=-1)\n",
    "\n",
    "plt.savefig('svm.pdf')\n"
   ]
  },
  {
   "cell_type": "code",
   "execution_count": null,
   "metadata": {},
   "outputs": [],
   "source": []
  }
 ],
 "metadata": {
  "kernelspec": {
   "display_name": "Python 3",
   "language": "python",
   "name": "python3"
  },
  "language_info": {
   "codemirror_mode": {
    "name": "ipython",
    "version": 3
   },
   "file_extension": ".py",
   "mimetype": "text/x-python",
   "name": "python",
   "nbconvert_exporter": "python",
   "pygments_lexer": "ipython3",
   "version": "3.8.3"
  }
 },
 "nbformat": 4,
 "nbformat_minor": 4
}
